{
 "cells": [
  {
   "cell_type": "markdown",
   "metadata": {},
   "source": [
    "# Import Libraries"
   ]
  },
  {
   "cell_type": "code",
   "execution_count": 1,
   "metadata": {},
   "outputs": [],
   "source": [
    "# dataframe libraries\n",
    "import pandas as pd\n",
    "import numpy as np\n",
    "\n",
    "# model load\n",
    "import pickle"
   ]
  },
  {
   "cell_type": "markdown",
   "metadata": {},
   "source": [
    "# Input Data Inference"
   ]
  },
  {
   "cell_type": "code",
   "execution_count": 2,
   "metadata": {},
   "outputs": [],
   "source": [
    "# input new data\n",
    "data_inf ={\n",
    "    'BALANCE': {0: 1161.581535, 1: 843.584041, 2: 1300.979916, 3: 5100.0},\n",
    "    'BALANCE_FREQUENCY': {0: 0.145, 1: 0.575, 2: 0.525, 3: 0.600},\n",
    "    'PURCHASES': {0: 300.0, 1: 123.0, 2: 180.0, 3: 250.0},\n",
    "    'ONEOFF_PURCHASES': {0: 101.0, 1: 103.0, 2: 60.0, 3: 75.0},\n",
    "    'INSTALLMENTS_PURCHASES': {0: 100.0, 1: 80.0, 2: 120.0, 3: 150.0},\n",
    "    'CASH_ADVANCE': {0: 1259.0, 1: 598.0, 2: 2019.0, 3: 1200.0},\n",
    "    'PURCHASES_FREQUENCY': {0: 0.325, 1: 0.425, 2: 0.825, 3: 0.300},\n",
    "    'ONEOFF_PURCHASES_FREQUENCY': {0: 0.0, 1: 0.0, 2: 0.225, 3: 0.150},\n",
    "    'PURCHASES_INSTALLMENTS_FREQUENCY': {0: 0.225, 1: 110.0, 2: 0.0, 3: 0.200},\n",
    "    'CASH_ADVANCE_FREQUENCY': {0: 0.344, 1: 0.291, 2: 0.410, 3: 0.350},\n",
    "    'CASH_ADVANCE_TRX': {0: 1, 1: 7, 2: 11, 3: 5},\n",
    "    'PURCHASES_TRX': {0: 5, 1: 1, 2: 10, 3: 6},\n",
    "    'CREDIT_LIMIT': {0: 1900.0, 1: 2000.0, 2: 3400.0, 3: 2500.0},\n",
    "    'PAYMENTS': {0: 1098.0, 1: 540.325023, 2: 896.0, 3: 700.0},\n",
    "    'MINIMUM_PAYMENTS': {0: 219, 1: 710.484825, 2: 575, 3: 450},\n",
    "    'PRC_FULL_PAYMENT': {0: 0.1, 1: 0.2, 2: 0.0, 3: 0.3},\n",
    "}\n"
   ]
  },
  {
   "cell_type": "markdown",
   "metadata": {},
   "source": [
    "Melakukan input data dengan nilai yang belum pernah dilihat oleh model"
   ]
  },
  {
   "cell_type": "markdown",
   "metadata": {},
   "source": [
    "# Model Loading"
   ]
  },
  {
   "cell_type": "code",
   "execution_count": 3,
   "metadata": {},
   "outputs": [],
   "source": [
    "# load model\n",
    "with open('model.pkl', 'rb') as file:\n",
    "    model = pickle.load(file)"
   ]
  },
  {
   "cell_type": "markdown",
   "metadata": {},
   "source": [
    "# Prediction"
   ]
  },
  {
   "cell_type": "code",
   "execution_count": 4,
   "metadata": {},
   "outputs": [
    {
     "data": {
      "text/html": [
       "<div>\n",
       "<style scoped>\n",
       "    .dataframe tbody tr th:only-of-type {\n",
       "        vertical-align: middle;\n",
       "    }\n",
       "\n",
       "    .dataframe tbody tr th {\n",
       "        vertical-align: top;\n",
       "    }\n",
       "\n",
       "    .dataframe thead th {\n",
       "        text-align: right;\n",
       "    }\n",
       "</style>\n",
       "<table border=\"1\" class=\"dataframe\">\n",
       "  <thead>\n",
       "    <tr style=\"text-align: right;\">\n",
       "      <th></th>\n",
       "      <th>BALANCE</th>\n",
       "      <th>BALANCE_FREQUENCY</th>\n",
       "      <th>PURCHASES</th>\n",
       "      <th>ONEOFF_PURCHASES</th>\n",
       "      <th>INSTALLMENTS_PURCHASES</th>\n",
       "      <th>CASH_ADVANCE</th>\n",
       "      <th>PURCHASES_FREQUENCY</th>\n",
       "      <th>ONEOFF_PURCHASES_FREQUENCY</th>\n",
       "      <th>PURCHASES_INSTALLMENTS_FREQUENCY</th>\n",
       "      <th>CASH_ADVANCE_FREQUENCY</th>\n",
       "      <th>CASH_ADVANCE_TRX</th>\n",
       "      <th>PURCHASES_TRX</th>\n",
       "      <th>CREDIT_LIMIT</th>\n",
       "      <th>PAYMENTS</th>\n",
       "      <th>MINIMUM_PAYMENTS</th>\n",
       "      <th>PRC_FULL_PAYMENT</th>\n",
       "    </tr>\n",
       "  </thead>\n",
       "  <tbody>\n",
       "    <tr>\n",
       "      <th>0</th>\n",
       "      <td>1161.581535</td>\n",
       "      <td>0.145</td>\n",
       "      <td>300.0</td>\n",
       "      <td>101.0</td>\n",
       "      <td>100.0</td>\n",
       "      <td>1259.0</td>\n",
       "      <td>0.325</td>\n",
       "      <td>0.000</td>\n",
       "      <td>0.225</td>\n",
       "      <td>0.344</td>\n",
       "      <td>1</td>\n",
       "      <td>5</td>\n",
       "      <td>1900.0</td>\n",
       "      <td>1098.000000</td>\n",
       "      <td>219.000000</td>\n",
       "      <td>0.1</td>\n",
       "    </tr>\n",
       "    <tr>\n",
       "      <th>1</th>\n",
       "      <td>843.584041</td>\n",
       "      <td>0.575</td>\n",
       "      <td>123.0</td>\n",
       "      <td>103.0</td>\n",
       "      <td>80.0</td>\n",
       "      <td>598.0</td>\n",
       "      <td>0.425</td>\n",
       "      <td>0.000</td>\n",
       "      <td>110.000</td>\n",
       "      <td>0.291</td>\n",
       "      <td>7</td>\n",
       "      <td>1</td>\n",
       "      <td>2000.0</td>\n",
       "      <td>540.325023</td>\n",
       "      <td>710.484825</td>\n",
       "      <td>0.2</td>\n",
       "    </tr>\n",
       "    <tr>\n",
       "      <th>2</th>\n",
       "      <td>1300.979916</td>\n",
       "      <td>0.525</td>\n",
       "      <td>180.0</td>\n",
       "      <td>60.0</td>\n",
       "      <td>120.0</td>\n",
       "      <td>2019.0</td>\n",
       "      <td>0.825</td>\n",
       "      <td>0.225</td>\n",
       "      <td>0.000</td>\n",
       "      <td>0.410</td>\n",
       "      <td>11</td>\n",
       "      <td>10</td>\n",
       "      <td>3400.0</td>\n",
       "      <td>896.000000</td>\n",
       "      <td>575.000000</td>\n",
       "      <td>0.0</td>\n",
       "    </tr>\n",
       "    <tr>\n",
       "      <th>3</th>\n",
       "      <td>5100.000000</td>\n",
       "      <td>0.600</td>\n",
       "      <td>250.0</td>\n",
       "      <td>75.0</td>\n",
       "      <td>150.0</td>\n",
       "      <td>1200.0</td>\n",
       "      <td>0.300</td>\n",
       "      <td>0.150</td>\n",
       "      <td>0.200</td>\n",
       "      <td>0.350</td>\n",
       "      <td>5</td>\n",
       "      <td>6</td>\n",
       "      <td>2500.0</td>\n",
       "      <td>700.000000</td>\n",
       "      <td>450.000000</td>\n",
       "      <td>0.3</td>\n",
       "    </tr>\n",
       "  </tbody>\n",
       "</table>\n",
       "</div>"
      ],
      "text/plain": [
       "       BALANCE  BALANCE_FREQUENCY  PURCHASES  ONEOFF_PURCHASES  \\\n",
       "0  1161.581535              0.145      300.0             101.0   \n",
       "1   843.584041              0.575      123.0             103.0   \n",
       "2  1300.979916              0.525      180.0              60.0   \n",
       "3  5100.000000              0.600      250.0              75.0   \n",
       "\n",
       "   INSTALLMENTS_PURCHASES  CASH_ADVANCE  PURCHASES_FREQUENCY  \\\n",
       "0                   100.0        1259.0                0.325   \n",
       "1                    80.0         598.0                0.425   \n",
       "2                   120.0        2019.0                0.825   \n",
       "3                   150.0        1200.0                0.300   \n",
       "\n",
       "   ONEOFF_PURCHASES_FREQUENCY  PURCHASES_INSTALLMENTS_FREQUENCY  \\\n",
       "0                       0.000                             0.225   \n",
       "1                       0.000                           110.000   \n",
       "2                       0.225                             0.000   \n",
       "3                       0.150                             0.200   \n",
       "\n",
       "   CASH_ADVANCE_FREQUENCY  CASH_ADVANCE_TRX  PURCHASES_TRX  CREDIT_LIMIT  \\\n",
       "0                   0.344                 1              5        1900.0   \n",
       "1                   0.291                 7              1        2000.0   \n",
       "2                   0.410                11             10        3400.0   \n",
       "3                   0.350                 5              6        2500.0   \n",
       "\n",
       "      PAYMENTS  MINIMUM_PAYMENTS  PRC_FULL_PAYMENT  \n",
       "0  1098.000000        219.000000               0.1  \n",
       "1   540.325023        710.484825               0.2  \n",
       "2   896.000000        575.000000               0.0  \n",
       "3   700.000000        450.000000               0.3  "
      ]
     },
     "execution_count": 4,
     "metadata": {},
     "output_type": "execute_result"
    }
   ],
   "source": [
    "# convert dict into a dataframe\n",
    "data_inf = pd.DataFrame(data_inf)\n",
    "data_inf"
   ]
  },
  {
   "cell_type": "code",
   "execution_count": 5,
   "metadata": {},
   "outputs": [
    {
     "name": "stdout",
     "output_type": "stream",
     "text": [
      "[1 2 3 1]\n"
     ]
    }
   ],
   "source": [
    "# predict\n",
    "predictions = model.predict(data_inf)\n",
    "print(predictions)"
   ]
  },
  {
   "cell_type": "markdown",
   "metadata": {},
   "source": [
    "Model berhasil mengkategorikan atau memberi cluster terdapat 4 customer diatas dimana:\n",
    "- Customer dengan ID 188 termasuk kedalam cluster no 1 atau Low Financial Activity User\n",
    "- Customer dengan ID 1302 termasuk kedalam cluster no 2 atau Mid Financial Activity User\n",
    "- Customer dengan ID 2122 termasuk kedalam cluster no 3 atau Low spender / Activity user\n",
    "- Customer dengan ID 2500 termasuk kedalam cluster no 1 atau Low Financial Activity User"
   ]
  }
 ],
 "metadata": {
  "kernelspec": {
   "display_name": "phase1",
   "language": "python",
   "name": "python3"
  },
  "language_info": {
   "codemirror_mode": {
    "name": "ipython",
    "version": 3
   },
   "file_extension": ".py",
   "mimetype": "text/x-python",
   "name": "python",
   "nbconvert_exporter": "python",
   "pygments_lexer": "ipython3",
   "version": "3.10.14"
  }
 },
 "nbformat": 4,
 "nbformat_minor": 2
}
